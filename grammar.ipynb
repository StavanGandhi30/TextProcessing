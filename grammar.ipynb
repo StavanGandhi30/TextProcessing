{
 "cells": [
  {
   "cell_type": "code",
   "execution_count": null,
   "metadata": {},
   "outputs": [],
   "source": [
    "! python3 -m spacy download en_core_web_lg"
   ]
  },
  {
   "cell_type": "code",
   "execution_count": 15,
   "metadata": {},
   "outputs": [],
   "source": [
    "def process(text):\n",
    "    doc = nlp(text)\n",
    "    for token in doc:\n",
    "        print(token.text, \" | \",\n",
    "              token.dep_, \" | \",\n",
    "              token.head.pos_\n",
    "             )\n",
    "        \n"
   ]
  },
  {
   "cell_type": "code",
   "execution_count": 16,
   "metadata": {},
   "outputs": [
    {
     "name": "stdout",
     "output_type": "stream",
     "text": [
      "Larissa  |  nsubj  |  VERB\n",
      "Painted  |  ROOT  |  VERB\n",
      "the  |  det  |  PROPN\n",
      "House  |  dobj  |  VERB\n",
      ".  |  punct  |  VERB\n",
      "\n",
      "\n",
      "\n",
      "Tom  |  nsubj  |  VERB\n",
      "changed  |  ROOT  |  VERB\n",
      "the  |  det  |  NOUN\n",
      "flat  |  amod  |  NOUN\n",
      "tire  |  dobj  |  VERB\n",
      ".  |  punct  |  VERB\n",
      "\n",
      "\n",
      "\n",
      "The  |  det  |  PROPN\n",
      "House  |  nsubjpass  |  VERB\n",
      "was  |  auxpass  |  VERB\n",
      "Painted  |  ROOT  |  VERB\n",
      "by  |  agent  |  VERB\n",
      "Larissa  |  pobj  |  ADP\n",
      ".  |  punct  |  VERB\n",
      "\n",
      "\n",
      "\n",
      "The  |  det  |  NOUN\n",
      "tire  |  nsubjpass  |  VERB\n",
      "was  |  auxpass  |  VERB\n",
      "changed  |  ROOT  |  VERB\n",
      "by  |  agent  |  VERB\n",
      "Tom  |  pobj  |  ADP\n",
      ".  |  punct  |  VERB\n"
     ]
    }
   ],
   "source": [
    "import spacy\n",
    "\n",
    "nlp = spacy.load(\"en_core_web_lg\")\n",
    "process(\"Larissa Painted the House.\")\n",
    "print('\\n\\n')\n",
    "process(\"Tom changed the flat tire.\")\n",
    "print('\\n\\n')\n",
    "\n",
    "process(\"The House was Painted by Larissa.\")\n",
    "print('\\n\\n')\n",
    "process(\"The tire was changed by Tom.\")\n",
    "    "
   ]
  },
  {
   "cell_type": "code",
   "execution_count": null,
   "metadata": {},
   "outputs": [],
   "source": []
  }
 ],
 "metadata": {
  "kernelspec": {
   "display_name": "Python 3",
   "language": "python",
   "name": "python3"
  },
  "language_info": {
   "codemirror_mode": {
    "name": "ipython",
    "version": 3
   },
   "file_extension": ".py",
   "mimetype": "text/x-python",
   "name": "python",
   "nbconvert_exporter": "python",
   "pygments_lexer": "ipython3",
   "version": "3.8.6"
  }
 },
 "nbformat": 4,
 "nbformat_minor": 4
}
