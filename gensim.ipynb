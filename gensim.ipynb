{
 "cells": [
  {
   "cell_type": "code",
   "execution_count": 1,
   "metadata": {},
   "outputs": [],
   "source": [
    "from gensim.summarization.summarizer import summarize\n",
    "from gensim.summarization import keywords"
   ]
  },
  {
   "cell_type": "code",
   "execution_count": 33,
   "metadata": {},
   "outputs": [],
   "source": [
    "class summarizeMyText():\n",
    "    def summarizeMyText(self, text = None, ratio = 0.5):\n",
    "        if text==None:\n",
    "            print('You need to enter some text for Summarization')\n",
    "        else:\n",
    "#             print(text)\n",
    "            print(\"Summarize: \",summarize(text, ratio=0.5))\n",
    "#             print(\"Keyword: \",keywords(text, words=5))\n",
    "            print(keywords(text, words=30, lemmatize=False))\n",
    "            print(\"\\nKeyword: \",keywords(text, words=30, lemmatize=True))"
   ]
  },
  {
   "cell_type": "code",
   "execution_count": 34,
   "metadata": {},
   "outputs": [
    {
     "name": "stdout",
     "output_type": "stream",
     "text": [
      "Summarize:  I am 16 years old.\n",
      "love\n",
      "programming\n",
      "years\n",
      "old\n",
      "gandhi\n",
      "stavan\n",
      "\n",
      "Keyword:  love\n",
      "programming\n",
      "gandhi\n",
      "stavan\n",
      "years\n",
      "old\n"
     ]
    }
   ],
   "source": [
    "x = summarizeMyText()\n",
    "x.summarizeMyText(\"Hi, My name is Stavan Gandhi. I am 16 years old. I love programming.\")"
   ]
  },
  {
   "cell_type": "code",
   "execution_count": null,
   "metadata": {},
   "outputs": [],
   "source": []
  },
  {
   "cell_type": "code",
   "execution_count": null,
   "metadata": {},
   "outputs": [],
   "source": []
  }
 ],
 "metadata": {
  "kernelspec": {
   "display_name": "Python 3",
   "language": "python",
   "name": "python3"
  },
  "language_info": {
   "codemirror_mode": {
    "name": "ipython",
    "version": 3
   },
   "file_extension": ".py",
   "mimetype": "text/x-python",
   "name": "python",
   "nbconvert_exporter": "python",
   "pygments_lexer": "ipython3",
   "version": "3.8.6"
  }
 },
 "nbformat": 4,
 "nbformat_minor": 4
}
