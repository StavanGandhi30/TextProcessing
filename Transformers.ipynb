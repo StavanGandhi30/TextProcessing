{
 "cells": [
  {
   "cell_type": "code",
   "execution_count": null,
   "metadata": {},
   "outputs": [],
   "source": [
    "! pip install transformers"
   ]
  },
  {
   "cell_type": "markdown",
   "metadata": {},
   "source": [
    "# 1. Summarizing Text"
   ]
  },
  {
   "cell_type": "code",
   "execution_count": null,
   "metadata": {},
   "outputs": [],
   "source": [
    "from transformers import pipeline\n",
    "summarizer = pipeline(\"summarization\")\n",
    "\n",
    "ARTICLE = \"\"\"\n",
    "\n",
    "Huge winter storms have plunged large parts of the central and southern United States into an energy crisis this week as frigid blasts of Arctic weather crippled electric grids and left millions of Americans without power amid dangerously cold temperatures.\n",
    "\n",
    "The grid failures were most severe in Texas, where more than four million people woke up Tuesday morning facing power failures. On Tuesday, Gov. Greg Abbott called for an emergency reform of the Electric Reliability Council of Texas, saying the operator of the state’s power grid “has been anything but reliable over the past 48 hours.”\n",
    "\n",
    "Analysts have begun to identify a few key factors behind the grid failures in Texas. Record-breaking cold weather spurred residents to crank up their electric heaters and pushed demand for electricity beyond the worst-case scenarios that grid operators had planned for. At the same time, many of the state’s gas-fired power plants were knocked offline amid icy conditions, and some plants appeared to suffer fuel shortages as natural gas demand spiked nationwide. Many of Texas’ wind turbines also froze and stopped working, although this was a smaller part of the problem.\n",
    "\n",
    "The resulting electricity shortfalls forced grid operators in Texas to impose rotating blackouts on homes and businesses, starting Monday, to avert a broader collapse of the system. Separate regional grids in the Southwest and Midwest are also coming under serious strain this week.\n",
    "\n",
    "The crisis highlighted a deeper warning for power systems throughout the country. Electric grids can be engineered to handle a wide range of severe conditions — as long as grid operators can reliably predict the dangers ahead. But as climate change accelerates, many electric grids will face novel and extreme weather events that go beyond the historical conditions those grids were designed for, putting the systems at risk of catastrophic failure.\n",
    "\n",
    "Building electric grids that are resilient in the face of increasingly wild and unpredictable weather will be an enormous challenge, experts said. In many cases, it may prove expensive, although, as Texas shows, the costs of grid failure can be extremely costly, too.\n",
    "\n",
    "“It’s essentially a question of how much insurance you want to buy,” said Jesse Jenkins, an energy systems engineer at Princeton University. “What makes this problem even harder is that we’re now in a world where, especially with climate change, the past is no longer a good guide to the future. We have to get much better at preparing for the unexpected.”\n",
    "\n",
    "\"\"\"\n",
    "\n",
    "summarizer(ARTICLE, max_length=1000, min_length=50, do_sample=False)[0]['summary_text']"
   ]
  },
  {
   "cell_type": "markdown",
   "metadata": {},
   "source": [
    "# 2. Analysis Negative/Positive Comments"
   ]
  },
  {
   "cell_type": "code",
   "execution_count": null,
   "metadata": {},
   "outputs": [],
   "source": [
    "from transformers import pipeline\n",
    "\n",
    "nlp = pipeline(\"sentiment-analysis\")\n",
    "result = \"I hate you\"\n",
    "print(result)"
   ]
  },
  {
   "cell_type": "markdown",
   "metadata": {},
   "source": [
    "# 3. Extracting Answer to Question from text"
   ]
  },
  {
   "cell_type": "code",
   "execution_count": null,
   "metadata": {},
   "outputs": [],
   "source": [
    "from transformers import pipeline\n",
    "\n",
    "nlp = pipeline(\"question-answering\")\n",
    "\n",
    "context = r\"\"\"\n",
    "Can I please get hamburger with cheese and a bottle of water.\n",
    "\"\"\"\n",
    "\n",
    "question = 'What else user wants to get?'\n",
    "result = nlp(question=question, context=context)\n",
    "print(result)\n",
    "\n",
    "\n",
    "question = 'What does user wants to add in food hamburger?'\n",
    "result = nlp(question=question, context=context)\n",
    "print(result)\n"
   ]
  },
  {
   "cell_type": "markdown",
   "metadata": {},
   "source": [
    "# 4. Fill-mask"
   ]
  },
  {
   "cell_type": "code",
   "execution_count": null,
   "metadata": {},
   "outputs": [],
   "source": [
    "from transformers import pipeline\n",
    "\n",
    "nlp = pipeline(\"fill-mask\")\n",
    "print(nlp(f\"I love you {nlp.tokenizer.mask_token}\")[0]['sequence'])"
   ]
  },
  {
   "cell_type": "markdown",
   "metadata": {},
   "source": [
    "# 5. Ner"
   ]
  },
  {
   "cell_type": "code",
   "execution_count": null,
   "metadata": {},
   "outputs": [],
   "source": [
    "from transformers import pipeline\n",
    "\n",
    "nlp = pipeline(\"ner\")\n",
    "\n",
    "\n",
    "# \"O\",       # Outside of a named entity\n",
    "# \"B-MISC\",  # Beginning of a miscellaneous entity right after another miscellaneous entity\n",
    "# \"I-MISC\",  # Miscellaneous entity\n",
    "# \"B-PER\",   # Beginning of a person's name right after another person's name\n",
    "# \"I-PER\",   # Person's name\n",
    "# \"B-ORG\",   # Beginning of an organisation right after another organisation\n",
    "# \"I-ORG\",   # Organisation\n",
    "# \"B-LOC\",   # Beginning of a location right after another location\n",
    "# \"I-LOC\"    # Location\n",
    "\n",
    "sequence = \"\"\"\n",
    "Mohandas Karamchand Gandhi was an Indian lawyer, anti-colonial nationalist, and political ethicist,\n",
    "who employed nonviolent resistance to lead the successful campaign for India's independence from British rule,\n",
    "and in turn inspired movements for civil rights and freedom across the world.\n",
    "\"\"\"\n",
    "\n",
    "print(nlp(sequence))"
   ]
  },
  {
   "cell_type": "code",
   "execution_count": null,
   "metadata": {},
   "outputs": [],
   "source": []
  }
 ],
 "metadata": {
  "kernelspec": {
   "display_name": "Python 3",
   "language": "python",
   "name": "python3"
  },
  "language_info": {
   "codemirror_mode": {
    "name": "ipython",
    "version": 3
   },
   "file_extension": ".py",
   "mimetype": "text/x-python",
   "name": "python",
   "nbconvert_exporter": "python",
   "pygments_lexer": "ipython3",
   "version": "3.8.6"
  }
 },
 "nbformat": 4,
 "nbformat_minor": 4
}
